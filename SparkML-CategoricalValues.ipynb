{
 "cells": [
  {
   "cell_type": "code",
   "execution_count": 3,
   "metadata": {},
   "outputs": [
    {
     "name": "stdout",
     "output_type": "stream",
     "text": [
      "+--------+---+---+-----+\n",
      "|    city|  x|  y|label|\n",
      "+--------+---+---+-----+\n",
      "|  Ankara|  5|  5|    0|\n",
      "|Istanbul|105|  1|    1|\n",
      "|Istanbul|105|106|    1|\n",
      "|  Ankara|  5|  6|    0|\n",
      "|   Izmir|  6|  6|    0|\n",
      "|  Ankara|106|106|    1|\n",
      "|Istanbul|  7|  7|    0|\n",
      "|   Izmir|  7|  6|    0|\n",
      "|Istanbul|107|107|    1|\n",
      "|Istanbul|  6|  7|    0|\n",
      "|   Izmir|  7|  8|    0|\n",
      "|  Ankara|108|108|    1|\n",
      "|Istanbul|  8|  6|    0|\n",
      "|   Izmir|105|108|    1|\n",
      "|Istanbul|  5|  8|    0|\n",
      "|  Ankara|107|106|    1|\n",
      "|   Izmir|  8|  8|    0|\n",
      "|Istanbul|106|107|    1|\n",
      "|  Ankara|107|108|    1|\n",
      "|Istanbul|108|106|    1|\n",
      "+--------+---+---+-----+\n",
      "\n"
     ]
    }
   ],
   "source": [
    "from pyspark.sql import SparkSession \n",
    "from pyspark.sql.functions import UserDefinedFunction\n",
    "from pyspark.sql.types import StringType\n",
    "from pyspark.ml.feature import VectorAssembler,StringIndexer,OneHotEncoder\n",
    "from pyspark.ml.classification import DecisionTreeClassifier\n",
    "from pyspark.ml.evaluation import MulticlassClassificationEvaluator\n",
    "from pyspark.ml.feature import Imputer\n",
    "\n",
    "spark = SparkSession.builder.appName(\"SparkML Train Test\").getOrCreate()\n",
    "pointsDF= spark.read.option(\"header\",\"false\")\\\n",
    "                        .option(\"inferSchema\",\"True\")\\\n",
    "                        .csv(\"datasets/points-places.txt\")\n",
    " \n",
    "pointsDF = pointsDF.withColumnRenamed('_c0','city')\n",
    "pointsDF = pointsDF.withColumnRenamed('_c1','x')\n",
    "pointsDF = pointsDF.withColumnRenamed('_c2','y')\n",
    "pointsDF = pointsDF.withColumnRenamed('_c3','label')\n",
    "\n",
    "pointsDF.show()"
   ]
  },
  {
   "cell_type": "code",
   "execution_count": 4,
   "metadata": {},
   "outputs": [
    {
     "name": "stdout",
     "output_type": "stream",
     "text": [
      "['Istanbul', 'Ankara', 'Izmir']\n",
      "+--------+---+---+-----+------------+\n",
      "|    city|  x|  y|label|city_Indexed|\n",
      "+--------+---+---+-----+------------+\n",
      "|  Ankara|  5|  5|    0|         1.0|\n",
      "|Istanbul|105|  1|    1|         0.0|\n",
      "|Istanbul|105|106|    1|         0.0|\n",
      "|  Ankara|  5|  6|    0|         1.0|\n",
      "|   Izmir|  6|  6|    0|         2.0|\n",
      "|  Ankara|106|106|    1|         1.0|\n",
      "|Istanbul|  7|  7|    0|         0.0|\n",
      "|   Izmir|  7|  6|    0|         2.0|\n",
      "|Istanbul|107|107|    1|         0.0|\n",
      "|Istanbul|  6|  7|    0|         0.0|\n",
      "|   Izmir|  7|  8|    0|         2.0|\n",
      "|  Ankara|108|108|    1|         1.0|\n",
      "|Istanbul|  8|  6|    0|         0.0|\n",
      "|   Izmir|105|108|    1|         2.0|\n",
      "|Istanbul|  5|  8|    0|         0.0|\n",
      "|  Ankara|107|106|    1|         1.0|\n",
      "|   Izmir|  8|  8|    0|         2.0|\n",
      "|Istanbul|106|107|    1|         0.0|\n",
      "|  Ankara|107|108|    1|         1.0|\n",
      "|Istanbul|108|106|    1|         0.0|\n",
      "+--------+---+---+-----+------------+\n",
      "\n"
     ]
    }
   ],
   "source": [
    "indx = StringIndexer(inputCol='city',outputCol='city_Indexed')\n",
    "indexModel = indx.fit(pointsDF)\n",
    "print(indexModel.labels)\n",
    "pointsDF = indexModel.transform(pointsDF)\n",
    "pointsDF.show()"
   ]
  },
  {
   "cell_type": "code",
   "execution_count": 5,
   "metadata": {},
   "outputs": [
    {
     "name": "stdout",
     "output_type": "stream",
     "text": [
      "+--------+---+---+-----+------------+-------------+\n",
      "|    city|  x|  y|label|city_Indexed| city_Encoded|\n",
      "+--------+---+---+-----+------------+-------------+\n",
      "|  Ankara|  5|  5|    0|         1.0|(2,[1],[1.0])|\n",
      "|Istanbul|105|  1|    1|         0.0|(2,[0],[1.0])|\n",
      "|Istanbul|105|106|    1|         0.0|(2,[0],[1.0])|\n",
      "|  Ankara|  5|  6|    0|         1.0|(2,[1],[1.0])|\n",
      "|   Izmir|  6|  6|    0|         2.0|    (2,[],[])|\n",
      "|  Ankara|106|106|    1|         1.0|(2,[1],[1.0])|\n",
      "|Istanbul|  7|  7|    0|         0.0|(2,[0],[1.0])|\n",
      "|   Izmir|  7|  6|    0|         2.0|    (2,[],[])|\n",
      "|Istanbul|107|107|    1|         0.0|(2,[0],[1.0])|\n",
      "|Istanbul|  6|  7|    0|         0.0|(2,[0],[1.0])|\n",
      "|   Izmir|  7|  8|    0|         2.0|    (2,[],[])|\n",
      "|  Ankara|108|108|    1|         1.0|(2,[1],[1.0])|\n",
      "|Istanbul|  8|  6|    0|         0.0|(2,[0],[1.0])|\n",
      "|   Izmir|105|108|    1|         2.0|    (2,[],[])|\n",
      "|Istanbul|  5|  8|    0|         0.0|(2,[0],[1.0])|\n",
      "|  Ankara|107|106|    1|         1.0|(2,[1],[1.0])|\n",
      "|   Izmir|  8|  8|    0|         2.0|    (2,[],[])|\n",
      "|Istanbul|106|107|    1|         0.0|(2,[0],[1.0])|\n",
      "|  Ankara|107|108|    1|         1.0|(2,[1],[1.0])|\n",
      "|Istanbul|108|106|    1|         0.0|(2,[0],[1.0])|\n",
      "+--------+---+---+-----+------------+-------------+\n",
      "\n"
     ]
    }
   ],
   "source": [
    "encoder = OneHotEncoder(inputCol='city_Indexed',outputCol='city_Encoded')\n",
    "pointsDF=encoder.transform(pointsDF)\n",
    "pointsDF.show()\n",
    "\n",
    "#encoderModel = encoder.fit(pointsDF)\n",
    "#print(encoderModel.explainParams) #try to print what information encodermodel has\n",
    "#pointsDF = encoderModel.transform(pointsDF)\n",
    "\n"
   ]
  },
  {
   "cell_type": "code",
   "execution_count": 6,
   "metadata": {},
   "outputs": [
    {
     "name": "stdout",
     "output_type": "stream",
     "text": [
      "+--------------------+-----+\n",
      "|            features|label|\n",
      "+--------------------+-----+\n",
      "|   [5.0,5.0,0.0,1.0]|    0|\n",
      "| [105.0,1.0,1.0,0.0]|    1|\n",
      "|[105.0,106.0,1.0,...|    1|\n",
      "|   [5.0,6.0,0.0,1.0]|    0|\n",
      "|   [6.0,6.0,0.0,0.0]|    0|\n",
      "|[106.0,106.0,0.0,...|    1|\n",
      "|   [7.0,7.0,1.0,0.0]|    0|\n",
      "|   [7.0,6.0,0.0,0.0]|    0|\n",
      "|[107.0,107.0,1.0,...|    1|\n",
      "|   [6.0,7.0,1.0,0.0]|    0|\n",
      "|   [7.0,8.0,0.0,0.0]|    0|\n",
      "|[108.0,108.0,0.0,...|    1|\n",
      "|   [8.0,6.0,1.0,0.0]|    0|\n",
      "|[105.0,108.0,0.0,...|    1|\n",
      "|   [5.0,8.0,1.0,0.0]|    0|\n",
      "|[107.0,106.0,0.0,...|    1|\n",
      "|   [8.0,8.0,0.0,0.0]|    0|\n",
      "|[106.0,107.0,1.0,...|    1|\n",
      "|[107.0,108.0,0.0,...|    1|\n",
      "|[108.0,106.0,1.0,...|    1|\n",
      "+--------------------+-----+\n",
      "\n",
      "DecisionTreeClassificationModel (uid=DecisionTreeClassifier_14c82ba2f971) of depth 1 with 3 nodes\n",
      "  If (feature 0 <= 56.5)\n",
      "   Predict: 0.0\n",
      "  Else (feature 0 > 56.5)\n",
      "   Predict: 1.0\n",
      "\n"
     ]
    }
   ],
   "source": [
    "vec = VectorAssembler(inputCols=['x','y','city_Encoded'],outputCol='features')\n",
    "pointsDF = vec.transform(pointsDF)\n",
    "pointsDF = pointsDF.select('features','label')\n",
    "pointsDF.show()\n",
    "\n",
    "classifier = DecisionTreeClassifier()\n",
    "model = classifier.fit(pointsDF)\n",
    "\n",
    "print(model.toDebugString)"
   ]
  },
  {
   "cell_type": "code",
   "execution_count": null,
   "metadata": {},
   "outputs": [],
   "source": []
  }
 ],
 "metadata": {
  "kernelspec": {
   "display_name": "Python 3",
   "language": "python",
   "name": "python3"
  },
  "language_info": {
   "codemirror_mode": {
    "name": "ipython",
    "version": 3
   },
   "file_extension": ".py",
   "mimetype": "text/x-python",
   "name": "python",
   "nbconvert_exporter": "python",
   "pygments_lexer": "ipython3",
   "version": "3.7.4"
  }
 },
 "nbformat": 4,
 "nbformat_minor": 4
}
