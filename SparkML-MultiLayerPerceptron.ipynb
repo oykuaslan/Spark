{
 "cells": [
  {
   "cell_type": "code",
   "execution_count": 11,
   "metadata": {},
   "outputs": [
    {
     "name": "stdout",
     "output_type": "stream",
     "text": [
      "+---------------+-----+\n",
      "|          class|count|\n",
      "+---------------+-----+\n",
      "| Iris-virginica|   50|\n",
      "|    Iris-setosa|   50|\n",
      "|Iris-versicolor|   50|\n",
      "+---------------+-----+\n",
      "\n",
      "Test Accuracy :  0.975609756097561\n"
     ]
    }
   ],
   "source": [
    "from pyspark.sql import SparkSession \n",
    "from pyspark.sql.functions import UserDefinedFunction\n",
    "from pyspark.sql.types import StringType\n",
    "from pyspark.ml.feature import VectorAssembler,StringIndexer\n",
    "from pyspark.ml.classification import MultilayerPerceptronClassifier\n",
    "from pyspark.ml.evaluation import MulticlassClassificationEvaluator\n",
    "\n",
    "spark = SparkSession.builder.appName(\"SparkML Train Test\").getOrCreate()\n",
    "irisDF= spark.read.option(\"header\",\"true\")\\\n",
    "                        .option(\"inferSchema\",\"True\")\\\n",
    "                        .csv(\"datasets/iris-dataset.txt\")\n",
    "#irisDF.show(5)\n",
    "strIndexer = StringIndexer(inputCol='class',outputCol='label')\n",
    "irisDF = strIndexer.fit(irisDF).transform(irisDF)\n",
    "classesDF = irisDF.select(\"class\").groupBy(\"class\").count()\n",
    "classesDF.show()\n",
    "#print(irisDF.columns[0:4])\n",
    "vec =  VectorAssembler(inputCols=irisDF.columns[0:4],outputCol='features')\n",
    "irisDF = vec.transform(irisDF)\n",
    "irisDF = irisDF.select('features','label')\n",
    "#irisDF.show()\n",
    "\n",
    "trainDF, testDF = irisDF.randomSplit([0.75,0.25],seed=1112)\n",
    "\n",
    "dtClassifier = MultilayerPerceptronClassifier(layers=[4,2,3])\n",
    "model = dtClassifier.fit(trainDF)\n",
    "#print(\"Model created learned !!! :)\")\n",
    "\n",
    "resultDF = model.transform(testDF) #Prediction\n",
    "#resultDF.show(100)\n",
    "\n",
    "eva = MulticlassClassificationEvaluator(metricName='accuracy')\n",
    "accuracy = eva.evaluate(resultDF)\n",
    "print(\"Test Accuracy : \",accuracy)"
   ]
  },
  {
   "cell_type": "code",
   "execution_count": null,
   "metadata": {},
   "outputs": [],
   "source": []
  }
 ],
 "metadata": {
  "kernelspec": {
   "display_name": "Python 3",
   "language": "python",
   "name": "python3"
  },
  "language_info": {
   "codemirror_mode": {
    "name": "ipython",
    "version": 3
   },
   "file_extension": ".py",
   "mimetype": "text/x-python",
   "name": "python",
   "nbconvert_exporter": "python",
   "pygments_lexer": "ipython3",
   "version": "3.7.4"
  }
 },
 "nbformat": 4,
 "nbformat_minor": 4
}
