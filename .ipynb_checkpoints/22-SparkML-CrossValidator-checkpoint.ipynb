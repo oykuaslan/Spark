{
 "cells": [
  {
   "cell_type": "code",
   "execution_count": 3,
   "metadata": {},
   "outputs": [
    {
     "name": "stdout",
     "output_type": "stream",
     "text": [
      "[[RandomForestClassificationModel: uid=RandomForestClassifier_2abdeb1fe07b, numTrees=6, numClasses=3, numFeatures=3, RandomForestClassificationModel: uid=RandomForestClassifier_2abdeb1fe07b, numTrees=6, numClasses=3, numFeatures=3, RandomForestClassificationModel: uid=RandomForestClassifier_2abdeb1fe07b, numTrees=6, numClasses=3, numFeatures=3, RandomForestClassificationModel: uid=RandomForestClassifier_2abdeb1fe07b, numTrees=6, numClasses=3, numFeatures=3, RandomForestClassificationModel: uid=RandomForestClassifier_2abdeb1fe07b, numTrees=6, numClasses=3, numFeatures=3, RandomForestClassificationModel: uid=RandomForestClassifier_2abdeb1fe07b, numTrees=6, numClasses=3, numFeatures=3, RandomForestClassificationModel: uid=RandomForestClassifier_2abdeb1fe07b, numTrees=7, numClasses=3, numFeatures=3, RandomForestClassificationModel: uid=RandomForestClassifier_2abdeb1fe07b, numTrees=7, numClasses=3, numFeatures=3, RandomForestClassificationModel: uid=RandomForestClassifier_2abdeb1fe07b, numTrees=7, numClasses=3, numFeatures=3, RandomForestClassificationModel: uid=RandomForestClassifier_2abdeb1fe07b, numTrees=7, numClasses=3, numFeatures=3, RandomForestClassificationModel: uid=RandomForestClassifier_2abdeb1fe07b, numTrees=7, numClasses=3, numFeatures=3, RandomForestClassificationModel: uid=RandomForestClassifier_2abdeb1fe07b, numTrees=7, numClasses=3, numFeatures=3, RandomForestClassificationModel: uid=RandomForestClassifier_2abdeb1fe07b, numTrees=8, numClasses=3, numFeatures=3, RandomForestClassificationModel: uid=RandomForestClassifier_2abdeb1fe07b, numTrees=8, numClasses=3, numFeatures=3, RandomForestClassificationModel: uid=RandomForestClassifier_2abdeb1fe07b, numTrees=8, numClasses=3, numFeatures=3, RandomForestClassificationModel: uid=RandomForestClassifier_2abdeb1fe07b, numTrees=8, numClasses=3, numFeatures=3, RandomForestClassificationModel: uid=RandomForestClassifier_2abdeb1fe07b, numTrees=8, numClasses=3, numFeatures=3, RandomForestClassificationModel: uid=RandomForestClassifier_2abdeb1fe07b, numTrees=8, numClasses=3, numFeatures=3], [RandomForestClassificationModel: uid=RandomForestClassifier_2abdeb1fe07b, numTrees=6, numClasses=3, numFeatures=3, RandomForestClassificationModel: uid=RandomForestClassifier_2abdeb1fe07b, numTrees=6, numClasses=3, numFeatures=3, RandomForestClassificationModel: uid=RandomForestClassifier_2abdeb1fe07b, numTrees=6, numClasses=3, numFeatures=3, RandomForestClassificationModel: uid=RandomForestClassifier_2abdeb1fe07b, numTrees=6, numClasses=3, numFeatures=3, RandomForestClassificationModel: uid=RandomForestClassifier_2abdeb1fe07b, numTrees=6, numClasses=3, numFeatures=3, RandomForestClassificationModel: uid=RandomForestClassifier_2abdeb1fe07b, numTrees=6, numClasses=3, numFeatures=3, RandomForestClassificationModel: uid=RandomForestClassifier_2abdeb1fe07b, numTrees=7, numClasses=3, numFeatures=3, RandomForestClassificationModel: uid=RandomForestClassifier_2abdeb1fe07b, numTrees=7, numClasses=3, numFeatures=3, RandomForestClassificationModel: uid=RandomForestClassifier_2abdeb1fe07b, numTrees=7, numClasses=3, numFeatures=3, RandomForestClassificationModel: uid=RandomForestClassifier_2abdeb1fe07b, numTrees=7, numClasses=3, numFeatures=3, RandomForestClassificationModel: uid=RandomForestClassifier_2abdeb1fe07b, numTrees=7, numClasses=3, numFeatures=3, RandomForestClassificationModel: uid=RandomForestClassifier_2abdeb1fe07b, numTrees=7, numClasses=3, numFeatures=3, RandomForestClassificationModel: uid=RandomForestClassifier_2abdeb1fe07b, numTrees=8, numClasses=3, numFeatures=3, RandomForestClassificationModel: uid=RandomForestClassifier_2abdeb1fe07b, numTrees=8, numClasses=3, numFeatures=3, RandomForestClassificationModel: uid=RandomForestClassifier_2abdeb1fe07b, numTrees=8, numClasses=3, numFeatures=3, RandomForestClassificationModel: uid=RandomForestClassifier_2abdeb1fe07b, numTrees=8, numClasses=3, numFeatures=3, RandomForestClassificationModel: uid=RandomForestClassifier_2abdeb1fe07b, numTrees=8, numClasses=3, numFeatures=3, RandomForestClassificationModel: uid=RandomForestClassifier_2abdeb1fe07b, numTrees=8, numClasses=3, numFeatures=3], [RandomForestClassificationModel: uid=RandomForestClassifier_2abdeb1fe07b, numTrees=6, numClasses=3, numFeatures=3, RandomForestClassificationModel: uid=RandomForestClassifier_2abdeb1fe07b, numTrees=6, numClasses=3, numFeatures=3, RandomForestClassificationModel: uid=RandomForestClassifier_2abdeb1fe07b, numTrees=6, numClasses=3, numFeatures=3, RandomForestClassificationModel: uid=RandomForestClassifier_2abdeb1fe07b, numTrees=6, numClasses=3, numFeatures=3, RandomForestClassificationModel: uid=RandomForestClassifier_2abdeb1fe07b, numTrees=6, numClasses=3, numFeatures=3, RandomForestClassificationModel: uid=RandomForestClassifier_2abdeb1fe07b, numTrees=6, numClasses=3, numFeatures=3, RandomForestClassificationModel: uid=RandomForestClassifier_2abdeb1fe07b, numTrees=7, numClasses=3, numFeatures=3, RandomForestClassificationModel: uid=RandomForestClassifier_2abdeb1fe07b, numTrees=7, numClasses=3, numFeatures=3, RandomForestClassificationModel: uid=RandomForestClassifier_2abdeb1fe07b, numTrees=7, numClasses=3, numFeatures=3, RandomForestClassificationModel: uid=RandomForestClassifier_2abdeb1fe07b, numTrees=7, numClasses=3, numFeatures=3, RandomForestClassificationModel: uid=RandomForestClassifier_2abdeb1fe07b, numTrees=7, numClasses=3, numFeatures=3, RandomForestClassificationModel: uid=RandomForestClassifier_2abdeb1fe07b, numTrees=7, numClasses=3, numFeatures=3, RandomForestClassificationModel: uid=RandomForestClassifier_2abdeb1fe07b, numTrees=8, numClasses=3, numFeatures=3, RandomForestClassificationModel: uid=RandomForestClassifier_2abdeb1fe07b, numTrees=8, numClasses=3, numFeatures=3, RandomForestClassificationModel: uid=RandomForestClassifier_2abdeb1fe07b, numTrees=8, numClasses=3, numFeatures=3, RandomForestClassificationModel: uid=RandomForestClassifier_2abdeb1fe07b, numTrees=8, numClasses=3, numFeatures=3, RandomForestClassificationModel: uid=RandomForestClassifier_2abdeb1fe07b, numTrees=8, numClasses=3, numFeatures=3, RandomForestClassificationModel: uid=RandomForestClassifier_2abdeb1fe07b, numTrees=8, numClasses=3, numFeatures=3], [RandomForestClassificationModel: uid=RandomForestClassifier_2abdeb1fe07b, numTrees=6, numClasses=3, numFeatures=3, RandomForestClassificationModel: uid=RandomForestClassifier_2abdeb1fe07b, numTrees=6, numClasses=3, numFeatures=3, RandomForestClassificationModel: uid=RandomForestClassifier_2abdeb1fe07b, numTrees=6, numClasses=3, numFeatures=3, RandomForestClassificationModel: uid=RandomForestClassifier_2abdeb1fe07b, numTrees=6, numClasses=3, numFeatures=3, RandomForestClassificationModel: uid=RandomForestClassifier_2abdeb1fe07b, numTrees=6, numClasses=3, numFeatures=3, RandomForestClassificationModel: uid=RandomForestClassifier_2abdeb1fe07b, numTrees=6, numClasses=3, numFeatures=3, RandomForestClassificationModel: uid=RandomForestClassifier_2abdeb1fe07b, numTrees=7, numClasses=3, numFeatures=3, RandomForestClassificationModel: uid=RandomForestClassifier_2abdeb1fe07b, numTrees=7, numClasses=3, numFeatures=3, RandomForestClassificationModel: uid=RandomForestClassifier_2abdeb1fe07b, numTrees=7, numClasses=3, numFeatures=3, RandomForestClassificationModel: uid=RandomForestClassifier_2abdeb1fe07b, numTrees=7, numClasses=3, numFeatures=3, RandomForestClassificationModel: uid=RandomForestClassifier_2abdeb1fe07b, numTrees=7, numClasses=3, numFeatures=3, RandomForestClassificationModel: uid=RandomForestClassifier_2abdeb1fe07b, numTrees=7, numClasses=3, numFeatures=3, RandomForestClassificationModel: uid=RandomForestClassifier_2abdeb1fe07b, numTrees=8, numClasses=3, numFeatures=3, RandomForestClassificationModel: uid=RandomForestClassifier_2abdeb1fe07b, numTrees=8, numClasses=3, numFeatures=3, RandomForestClassificationModel: uid=RandomForestClassifier_2abdeb1fe07b, numTrees=8, numClasses=3, numFeatures=3, RandomForestClassificationModel: uid=RandomForestClassifier_2abdeb1fe07b, numTrees=8, numClasses=3, numFeatures=3, RandomForestClassificationModel: uid=RandomForestClassifier_2abdeb1fe07b, numTrees=8, numClasses=3, numFeatures=3, RandomForestClassificationModel: uid=RandomForestClassifier_2abdeb1fe07b, numTrees=8, numClasses=3, numFeatures=3], [RandomForestClassificationModel: uid=RandomForestClassifier_2abdeb1fe07b, numTrees=6, numClasses=3, numFeatures=3, RandomForestClassificationModel: uid=RandomForestClassifier_2abdeb1fe07b, numTrees=6, numClasses=3, numFeatures=3, RandomForestClassificationModel: uid=RandomForestClassifier_2abdeb1fe07b, numTrees=6, numClasses=3, numFeatures=3, RandomForestClassificationModel: uid=RandomForestClassifier_2abdeb1fe07b, numTrees=6, numClasses=3, numFeatures=3, RandomForestClassificationModel: uid=RandomForestClassifier_2abdeb1fe07b, numTrees=6, numClasses=3, numFeatures=3, RandomForestClassificationModel: uid=RandomForestClassifier_2abdeb1fe07b, numTrees=6, numClasses=3, numFeatures=3, RandomForestClassificationModel: uid=RandomForestClassifier_2abdeb1fe07b, numTrees=7, numClasses=3, numFeatures=3, RandomForestClassificationModel: uid=RandomForestClassifier_2abdeb1fe07b, numTrees=7, numClasses=3, numFeatures=3, RandomForestClassificationModel: uid=RandomForestClassifier_2abdeb1fe07b, numTrees=7, numClasses=3, numFeatures=3, RandomForestClassificationModel: uid=RandomForestClassifier_2abdeb1fe07b, numTrees=7, numClasses=3, numFeatures=3, RandomForestClassificationModel: uid=RandomForestClassifier_2abdeb1fe07b, numTrees=7, numClasses=3, numFeatures=3, RandomForestClassificationModel: uid=RandomForestClassifier_2abdeb1fe07b, numTrees=7, numClasses=3, numFeatures=3, RandomForestClassificationModel: uid=RandomForestClassifier_2abdeb1fe07b, numTrees=8, numClasses=3, numFeatures=3, RandomForestClassificationModel: uid=RandomForestClassifier_2abdeb1fe07b, numTrees=8, numClasses=3, numFeatures=3, RandomForestClassificationModel: uid=RandomForestClassifier_2abdeb1fe07b, numTrees=8, numClasses=3, numFeatures=3, RandomForestClassificationModel: uid=RandomForestClassifier_2abdeb1fe07b, numTrees=8, numClasses=3, numFeatures=3, RandomForestClassificationModel: uid=RandomForestClassifier_2abdeb1fe07b, numTrees=8, numClasses=3, numFeatures=3, RandomForestClassificationModel: uid=RandomForestClassifier_2abdeb1fe07b, numTrees=8, numClasses=3, numFeatures=3]]\n",
      "Num Trees :  7\n",
      "Max Depth :  8\n",
      "Impurtiy :  entropy\n",
      "Test Accuracy :  0.975609756097561\n"
     ]
    }
   ],
   "source": [
    "from pyspark.sql import SparkSession \n",
    "from pyspark.sql.functions import UserDefinedFunction\n",
    "from pyspark.sql.types import StringType\n",
    "from pyspark.ml.feature import VectorAssembler,StringIndexer,PCA\n",
    "from pyspark.ml.classification import RandomForestClassifier\n",
    "from pyspark.ml.evaluation import MulticlassClassificationEvaluator\n",
    "from pyspark.ml.tuning import CrossValidator,ParamGridBuilder\n",
    "\n",
    "spark = SparkSession.builder.appName(\"SparkML TrainValidation\").getOrCreate()\n",
    "irisDF= spark.read.option(\"header\",\"true\")\\\n",
    "                        .option(\"inferSchema\",\"True\")\\\n",
    "                        .csv(\"datasets/iris-dataset.txt\")\n",
    "irisDF.show(5)\n",
    "strIndexer = StringIndexer(inputCol='class',outputCol='label')\n",
    "irisDF = strIndexer.fit(irisDF).transform(irisDF)\n",
    "classesDF = irisDF.select(\"class\").groupBy(\"class\").count()\n",
    "#classesDF.show()\n",
    "#print(irisDF.columns[0:4])\n",
    "vec =  VectorAssembler(inputCols=irisDF.columns[0:4],outputCol='featuresold')\n",
    "irisDF = vec.transform(irisDF)\n",
    "irisDF = irisDF.select('featuresold','label')\n",
    "#irisDF.show()\n",
    "\n",
    "pca = PCA(inputCol=\"featuresold\",outputCol=\"features\",k=3) #Dimentiality redcution\n",
    "\n",
    "irisDF = pca.fit(irisDF).transform(irisDF)\n",
    "#irisDF.show(truncate=False)\n",
    "\n",
    "trainDF, testDF = irisDF.randomSplit([0.75,0.25],seed=1112)\n",
    "\n",
    "rfClassifier = RandomForestClassifier()\n",
    "eva = MulticlassClassificationEvaluator(metricName='accuracy')\n",
    "\n",
    "params = ParamGridBuilder().addGrid(rfClassifier.numTrees, [6,7,8]) \\\n",
    "                            .addGrid(rfClassifier.maxDepth, [4,6,8]) \\\n",
    "                            .addGrid(rfClassifier.impurity, ['gini','entropy']) \\\n",
    "                            .build()\n",
    "\n",
    "validator = CrossValidator(estimator=rfClassifier,\n",
    "                                estimatorParamMaps=params,\n",
    "                                evaluator=eva,\n",
    "                                numFolds=5,\n",
    "                                parallelism=4,\n",
    "                                seed=123,\n",
    "                          collectSubModels=True)\n",
    "\n",
    "#Hyper Parameter Tunning\n",
    "model = validator.fit(irisDF)\n",
    "\n",
    "print(model.subModels)\n",
    "\n",
    "print(\"Num Trees : \",model.bestModel.getNumTrees)\n",
    "print(\"Max Depth : \",model.bestModel._java_obj.getMaxDepth())\n",
    "print(\"Impurtiy : \",model.bestModel._java_obj.getImpurity())\n",
    "\n",
    "resultDF = model.transform(testDF) #Best model will be applied to transform operation\n",
    "\n",
    "accuracy = eva.evaluate(resultDF)\n",
    "print(\"Test Accuracy : \",accuracy)"
   ]
  },
  {
   "cell_type": "code",
   "execution_count": 1,
   "metadata": {},
   "outputs": [
    {
     "name": "stdout",
     "output_type": "stream",
     "text": [
      "+------------+-----------+------------+-----------+-----------+\n",
      "|sepal-length|sepal-width|petal-length|petal-width|      class|\n",
      "+------------+-----------+------------+-----------+-----------+\n",
      "|         5.1|        3.5|         1.4|        0.2|Iris-setosa|\n",
      "|         4.9|        3.0|         1.4|        0.2|Iris-setosa|\n",
      "|         4.7|        3.2|         1.3|        0.2|Iris-setosa|\n",
      "|         4.6|        3.1|         1.5|        0.2|Iris-setosa|\n",
      "|         5.0|        3.6|         1.4|        0.2|Iris-setosa|\n",
      "+------------+-----------+------------+-----------+-----------+\n",
      "only showing top 5 rows\n",
      "\n"
     ]
    }
   ],
   "source": [
    "from pyspark.sql import SparkSession \n",
    "from pyspark.sql.functions import UserDefinedFunction\n",
    "from pyspark.sql.types import StringType\n",
    "from pyspark.ml.feature import VectorAssembler,StringIndexer,PCA\n",
    "from pyspark.ml.classification import RandomForestClassifier\n",
    "from pyspark.ml.evaluation import MulticlassClassificationEvaluator\n",
    "from pyspark.ml.tuning import CrossValidator,ParamGridBuilder\n",
    "\n",
    "spark = SparkSession.builder.appName(\"SparkML TrainValidation\").getOrCreate()\n",
    "irisDF= spark.read.option(\"header\",\"true\")\\\n",
    "                        .option(\"inferSchema\",\"True\")\\\n",
    "                        .csv(\"datasets/iris-dataset.txt\")\n",
    "irisDF.show(5)\n",
    "strIndexer = StringIndexer(inputCol='class',outputCol='label')\n",
    "irisDF = strIndexer.fit(irisDF).transform(irisDF)\n",
    "classesDF = irisDF.select(\"class\").groupBy(\"class\").count()\n",
    "#classesDF.show()\n",
    "#print(irisDF.columns[0:4])\n",
    "vec =  VectorAssembler(inputCols=irisDF.columns[0:4],outputCol='featuresold')\n",
    "irisDF = vec.transform(irisDF)\n",
    "irisDF = irisDF.select('featuresold','label')\n",
    "#irisDF.show()"
   ]
  },
  {
   "cell_type": "code",
   "execution_count": 2,
   "metadata": {},
   "outputs": [
    {
     "name": "stdout",
     "output_type": "stream",
     "text": [
      "[[RandomForestClassificationModel (uid=RandomForestClassifier_8e21bc45d01f) with 6 trees, RandomForestClassificationModel (uid=RandomForestClassifier_8e21bc45d01f) with 6 trees, RandomForestClassificationModel (uid=RandomForestClassifier_8e21bc45d01f) with 6 trees, RandomForestClassificationModel (uid=RandomForestClassifier_8e21bc45d01f) with 6 trees, RandomForestClassificationModel (uid=RandomForestClassifier_8e21bc45d01f) with 6 trees, RandomForestClassificationModel (uid=RandomForestClassifier_8e21bc45d01f) with 6 trees, RandomForestClassificationModel (uid=RandomForestClassifier_8e21bc45d01f) with 7 trees, RandomForestClassificationModel (uid=RandomForestClassifier_8e21bc45d01f) with 7 trees, RandomForestClassificationModel (uid=RandomForestClassifier_8e21bc45d01f) with 7 trees, RandomForestClassificationModel (uid=RandomForestClassifier_8e21bc45d01f) with 7 trees, RandomForestClassificationModel (uid=RandomForestClassifier_8e21bc45d01f) with 7 trees, RandomForestClassificationModel (uid=RandomForestClassifier_8e21bc45d01f) with 7 trees, RandomForestClassificationModel (uid=RandomForestClassifier_8e21bc45d01f) with 8 trees, RandomForestClassificationModel (uid=RandomForestClassifier_8e21bc45d01f) with 8 trees, RandomForestClassificationModel (uid=RandomForestClassifier_8e21bc45d01f) with 8 trees, RandomForestClassificationModel (uid=RandomForestClassifier_8e21bc45d01f) with 8 trees, RandomForestClassificationModel (uid=RandomForestClassifier_8e21bc45d01f) with 8 trees, RandomForestClassificationModel (uid=RandomForestClassifier_8e21bc45d01f) with 8 trees], [RandomForestClassificationModel (uid=RandomForestClassifier_8e21bc45d01f) with 6 trees, RandomForestClassificationModel (uid=RandomForestClassifier_8e21bc45d01f) with 6 trees, RandomForestClassificationModel (uid=RandomForestClassifier_8e21bc45d01f) with 6 trees, RandomForestClassificationModel (uid=RandomForestClassifier_8e21bc45d01f) with 6 trees, RandomForestClassificationModel (uid=RandomForestClassifier_8e21bc45d01f) with 6 trees, RandomForestClassificationModel (uid=RandomForestClassifier_8e21bc45d01f) with 6 trees, RandomForestClassificationModel (uid=RandomForestClassifier_8e21bc45d01f) with 7 trees, RandomForestClassificationModel (uid=RandomForestClassifier_8e21bc45d01f) with 7 trees, RandomForestClassificationModel (uid=RandomForestClassifier_8e21bc45d01f) with 7 trees, RandomForestClassificationModel (uid=RandomForestClassifier_8e21bc45d01f) with 7 trees, RandomForestClassificationModel (uid=RandomForestClassifier_8e21bc45d01f) with 7 trees, RandomForestClassificationModel (uid=RandomForestClassifier_8e21bc45d01f) with 7 trees, RandomForestClassificationModel (uid=RandomForestClassifier_8e21bc45d01f) with 8 trees, RandomForestClassificationModel (uid=RandomForestClassifier_8e21bc45d01f) with 8 trees, RandomForestClassificationModel (uid=RandomForestClassifier_8e21bc45d01f) with 8 trees, RandomForestClassificationModel (uid=RandomForestClassifier_8e21bc45d01f) with 8 trees, RandomForestClassificationModel (uid=RandomForestClassifier_8e21bc45d01f) with 8 trees, RandomForestClassificationModel (uid=RandomForestClassifier_8e21bc45d01f) with 8 trees], [RandomForestClassificationModel (uid=RandomForestClassifier_8e21bc45d01f) with 6 trees, RandomForestClassificationModel (uid=RandomForestClassifier_8e21bc45d01f) with 6 trees, RandomForestClassificationModel (uid=RandomForestClassifier_8e21bc45d01f) with 6 trees, RandomForestClassificationModel (uid=RandomForestClassifier_8e21bc45d01f) with 6 trees, RandomForestClassificationModel (uid=RandomForestClassifier_8e21bc45d01f) with 6 trees, RandomForestClassificationModel (uid=RandomForestClassifier_8e21bc45d01f) with 6 trees, RandomForestClassificationModel (uid=RandomForestClassifier_8e21bc45d01f) with 7 trees, RandomForestClassificationModel (uid=RandomForestClassifier_8e21bc45d01f) with 7 trees, RandomForestClassificationModel (uid=RandomForestClassifier_8e21bc45d01f) with 7 trees, RandomForestClassificationModel (uid=RandomForestClassifier_8e21bc45d01f) with 7 trees, RandomForestClassificationModel (uid=RandomForestClassifier_8e21bc45d01f) with 7 trees, RandomForestClassificationModel (uid=RandomForestClassifier_8e21bc45d01f) with 7 trees, RandomForestClassificationModel (uid=RandomForestClassifier_8e21bc45d01f) with 8 trees, RandomForestClassificationModel (uid=RandomForestClassifier_8e21bc45d01f) with 8 trees, RandomForestClassificationModel (uid=RandomForestClassifier_8e21bc45d01f) with 8 trees, RandomForestClassificationModel (uid=RandomForestClassifier_8e21bc45d01f) with 8 trees, RandomForestClassificationModel (uid=RandomForestClassifier_8e21bc45d01f) with 8 trees, RandomForestClassificationModel (uid=RandomForestClassifier_8e21bc45d01f) with 8 trees], [RandomForestClassificationModel (uid=RandomForestClassifier_8e21bc45d01f) with 6 trees, RandomForestClassificationModel (uid=RandomForestClassifier_8e21bc45d01f) with 6 trees, RandomForestClassificationModel (uid=RandomForestClassifier_8e21bc45d01f) with 6 trees, RandomForestClassificationModel (uid=RandomForestClassifier_8e21bc45d01f) with 6 trees, RandomForestClassificationModel (uid=RandomForestClassifier_8e21bc45d01f) with 6 trees, RandomForestClassificationModel (uid=RandomForestClassifier_8e21bc45d01f) with 6 trees, RandomForestClassificationModel (uid=RandomForestClassifier_8e21bc45d01f) with 7 trees, RandomForestClassificationModel (uid=RandomForestClassifier_8e21bc45d01f) with 7 trees, RandomForestClassificationModel (uid=RandomForestClassifier_8e21bc45d01f) with 7 trees, RandomForestClassificationModel (uid=RandomForestClassifier_8e21bc45d01f) with 7 trees, RandomForestClassificationModel (uid=RandomForestClassifier_8e21bc45d01f) with 7 trees, RandomForestClassificationModel (uid=RandomForestClassifier_8e21bc45d01f) with 7 trees, RandomForestClassificationModel (uid=RandomForestClassifier_8e21bc45d01f) with 8 trees, RandomForestClassificationModel (uid=RandomForestClassifier_8e21bc45d01f) with 8 trees, RandomForestClassificationModel (uid=RandomForestClassifier_8e21bc45d01f) with 8 trees, RandomForestClassificationModel (uid=RandomForestClassifier_8e21bc45d01f) with 8 trees, RandomForestClassificationModel (uid=RandomForestClassifier_8e21bc45d01f) with 8 trees, RandomForestClassificationModel (uid=RandomForestClassifier_8e21bc45d01f) with 8 trees], [RandomForestClassificationModel (uid=RandomForestClassifier_8e21bc45d01f) with 6 trees, RandomForestClassificationModel (uid=RandomForestClassifier_8e21bc45d01f) with 6 trees, RandomForestClassificationModel (uid=RandomForestClassifier_8e21bc45d01f) with 6 trees, RandomForestClassificationModel (uid=RandomForestClassifier_8e21bc45d01f) with 6 trees, RandomForestClassificationModel (uid=RandomForestClassifier_8e21bc45d01f) with 6 trees, RandomForestClassificationModel (uid=RandomForestClassifier_8e21bc45d01f) with 6 trees, RandomForestClassificationModel (uid=RandomForestClassifier_8e21bc45d01f) with 7 trees, RandomForestClassificationModel (uid=RandomForestClassifier_8e21bc45d01f) with 7 trees, RandomForestClassificationModel (uid=RandomForestClassifier_8e21bc45d01f) with 7 trees, RandomForestClassificationModel (uid=RandomForestClassifier_8e21bc45d01f) with 7 trees, RandomForestClassificationModel (uid=RandomForestClassifier_8e21bc45d01f) with 7 trees, RandomForestClassificationModel (uid=RandomForestClassifier_8e21bc45d01f) with 7 trees, RandomForestClassificationModel (uid=RandomForestClassifier_8e21bc45d01f) with 8 trees, RandomForestClassificationModel (uid=RandomForestClassifier_8e21bc45d01f) with 8 trees, RandomForestClassificationModel (uid=RandomForestClassifier_8e21bc45d01f) with 8 trees, RandomForestClassificationModel (uid=RandomForestClassifier_8e21bc45d01f) with 8 trees, RandomForestClassificationModel (uid=RandomForestClassifier_8e21bc45d01f) with 8 trees, RandomForestClassificationModel (uid=RandomForestClassifier_8e21bc45d01f) with 8 trees]]\n",
      "Num Trees :  8\n",
      "Max Depth :  6\n",
      "Impurtiy :  entropy\n",
      "Test Accuracy :  1.0\n"
     ]
    }
   ],
   "source": [
    "pca = PCA(inputCol=\"featuresold\",outputCol=\"features\",k=3) #Dimentiality redcution\n",
    "\n",
    "irisDF = pca.fit(irisDF).transform(irisDF)\n",
    "#irisDF.show(truncate=False)\n",
    "\n",
    "trainDF, testDF = irisDF.randomSplit([0.75,0.25],seed=1112)\n",
    "\n",
    "rfClassifier = RandomForestClassifier()\n",
    "eva = MulticlassClassificationEvaluator(metricName='accuracy')\n",
    "\n",
    "params = ParamGridBuilder().addGrid(rfClassifier.numTrees, [6,7,8]) \\\n",
    "                            .addGrid(rfClassifier.maxDepth, [4,6,8]) \\\n",
    "                            .addGrid(rfClassifier.impurity, ['gini','entropy']) \\\n",
    "                            .build()\n",
    "\n",
    "validator = CrossValidator(estimator=rfClassifier,\n",
    "                                estimatorParamMaps=params,\n",
    "                                evaluator=eva,\n",
    "                                numFolds=5,\n",
    "                                parallelism=4,\n",
    "                                seed=123,\n",
    "                          collectSubModels=True)\n",
    "\n",
    "#Hyper Parameter Tunning\n",
    "model = validator.fit(irisDF)\n",
    "\n",
    "print(model.subModels)\n",
    "\n",
    "print(\"Num Trees : \",model.bestModel.getNumTrees)\n",
    "print(\"Max Depth : \",model.bestModel._java_obj.getMaxDepth())\n",
    "print(\"Impurtiy : \",model.bestModel._java_obj.getImpurity())\n",
    "\n",
    "resultDF = model.transform(testDF) #Best model will be applied to transform operation\n",
    "\n",
    "accuracy = eva.evaluate(resultDF)\n",
    "print(\"Test Accuracy : \",accuracy)"
   ]
  },
  {
   "cell_type": "code",
   "execution_count": null,
   "metadata": {},
   "outputs": [],
   "source": []
  }
 ],
 "metadata": {
  "kernelspec": {
   "display_name": "Python 3",
   "language": "python",
   "name": "python3"
  },
  "language_info": {
   "codemirror_mode": {
    "name": "ipython",
    "version": 3
   },
   "file_extension": ".py",
   "mimetype": "text/x-python",
   "name": "python",
   "nbconvert_exporter": "python",
   "pygments_lexer": "ipython3",
   "version": "3.7.4"
  }
 },
 "nbformat": 4,
 "nbformat_minor": 4
}
