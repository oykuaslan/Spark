{
 "cells": [
  {
   "cell_type": "code",
   "execution_count": 2,
   "metadata": {},
   "outputs": [
    {
     "name": "stdout",
     "output_type": "stream",
     "text": [
      "+---+---+\n",
      "|  x|  y|\n",
      "+---+---+\n",
      "|  5|  5|\n",
      "|105|107|\n",
      "|105|106|\n",
      "|  4|  6|\n",
      "|  6|  6|\n",
      "|106|  5|\n",
      "|  7|  7|\n",
      "|  3|  8|\n",
      "|107|107|\n",
      "|  6|  7|\n",
      "|  7| 10|\n",
      "|108|108|\n",
      "|  8|  6|\n",
      "|  3|108|\n",
      "|  5|  8|\n",
      "|107|106|\n",
      "|  8|  8|\n",
      "|100|107|\n",
      "|107|108|\n",
      "|108|106|\n",
      "+---+---+\n",
      "only showing top 20 rows\n",
      "\n"
     ]
    }
   ],
   "source": [
    "from pyspark.sql import SparkSession \n",
    "from pyspark.ml.feature import VectorAssembler\n",
    "from pyspark.ml.clustering import KMeans\n",
    "import matplotlib.pyplot as plt\n",
    "from pyspark.ml.evaluation import ClusteringEvaluator\n",
    "\n",
    "\n",
    "spark = SparkSession.builder.appName(\"SparkML Clustering\").getOrCreate()\n",
    "pointsDF= spark.read.option(\"header\",\"false\")\\\n",
    "                        .option(\"inferSchema\",\"True\")\\\n",
    "                        .csv(\"datasets/points.txt\")\n",
    "pointsDF = pointsDF.withColumnRenamed(\"_c0\",\"x\")\n",
    "pointsDF = pointsDF.withColumnRenamed(\"_c1\",\"y\")\n",
    "pointsDF.show()\n"
   ]
  },
  {
   "cell_type": "code",
   "execution_count": 3,
   "metadata": {},
   "outputs": [],
   "source": [
    "vec = VectorAssembler(inputCols=['x','y'],outputCol='features')\n",
    "pointsDF = vec.transform(pointsDF)\n",
    "#pointsDF.show()\n",
    "\n",
    "\n",
    "x = pointsDF.select(\"x\").rdd.flatMap(lambda x : list(x) ).collect()\n",
    "y = pointsDF.select(\"y\").rdd.flatMap(lambda x : list(x) ).collect()"
   ]
  },
  {
   "cell_type": "code",
   "execution_count": 4,
   "metadata": {},
   "outputs": [
    {
     "name": "stdout",
     "output_type": "stream",
     "text": [
      "[array([ 94.44444444, 107.        ]), array([10000008., 10000006.]), array([5.9, 7.1]), array([106.,   5.])]\n",
      "+---+---+-------------+\n",
      "|  x|  y|     features|\n",
      "+---+---+-------------+\n",
      "|  5|  5|    [5.0,5.0]|\n",
      "|105|107|[105.0,107.0]|\n",
      "|105|106|[105.0,106.0]|\n",
      "|  4|  6|    [4.0,6.0]|\n",
      "|  6|  6|    [6.0,6.0]|\n",
      "|106|  5|  [106.0,5.0]|\n",
      "|  7|  7|    [7.0,7.0]|\n",
      "|  3|  8|    [3.0,8.0]|\n",
      "|107|107|[107.0,107.0]|\n",
      "|  6|  7|    [6.0,7.0]|\n",
      "|  7| 10|   [7.0,10.0]|\n",
      "|108|108|[108.0,108.0]|\n",
      "|  8|  6|    [8.0,6.0]|\n",
      "|  3|108|  [3.0,108.0]|\n",
      "|  5|  8|    [5.0,8.0]|\n",
      "|107|106|[107.0,106.0]|\n",
      "|  8|  8|    [8.0,8.0]|\n",
      "|100|107|[100.0,107.0]|\n",
      "|107|108|[107.0,108.0]|\n",
      "|108|106|[108.0,106.0]|\n",
      "+---+---+-------------+\n",
      "only showing top 20 rows\n",
      "\n"
     ]
    }
   ],
   "source": [
    "k = 4\n",
    "km = KMeans().setK(k)\n",
    "\n",
    "model = km.fit(pointsDF)\n",
    "\n",
    "print(model.clusterCenters())\n",
    "\n",
    "resultDF = model.transform(pointsDF) #Assing points to the centers (Prediction)\n",
    "pointsDF.show()"
   ]
  },
  {
   "cell_type": "code",
   "execution_count": 5,
   "metadata": {},
   "outputs": [
    {
     "data": {
      "image/png": "[encoded data removed]",
      "text/plain": [
       "<Figure size 432x288 with 1 Axes>"
      ]
     },
     "metadata": {
      "needs_background": "light"
     },
     "output_type": "display_data"
    },
    {
     "name": "stdout",
     "output_type": "stream",
     "text": [
      "0.9010636765750382\n"
     ]
    }
   ],
   "source": [
    "for i in range(k):\n",
    "    x = resultDF.filter(resultDF['prediction']==i).select(\"x\").rdd.flatMap(lambda x : list(x) ).collect()\n",
    "    y = resultDF.filter(resultDF['prediction']==i).select(\"y\").rdd.flatMap(lambda x : list(x) ).collect()\n",
    "    plt.scatter(x,y)\n",
    "\n",
    "for a in model.clusterCenters():\n",
    "    plt.scatter(a[0],a[1])\n",
    "\n",
    "plt.show()\n",
    "\n",
    "eva = ClusteringEvaluator()\n",
    "res = eva.evaluate(resultDF)\n",
    "print(res)"
   ]
  },
  {
   "cell_type": "code",
   "execution_count": null,
   "metadata": {},
   "outputs": [],
   "source": []
  }
 ],
 "metadata": {
  "kernelspec": {
   "display_name": "Python 3",
   "language": "python",
   "name": "python3"
  },
  "language_info": {
   "codemirror_mode": {
    "name": "ipython",
    "version": 3
   },
   "file_extension": ".py",
   "mimetype": "text/x-python",
   "name": "python",
   "nbconvert_exporter": "python",
   "pygments_lexer": "ipython3",
   "version": "3.7.4"
  }
 },
 "nbformat": 4,
 "nbformat_minor": 4
}
