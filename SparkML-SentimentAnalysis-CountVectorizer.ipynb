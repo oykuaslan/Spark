{
 "cells": [
  {
   "cell_type": "code",
   "execution_count": 2,
   "metadata": {},
   "outputs": [],
   "source": [
    "from pyspark.sql import SparkSession \n",
    "from pyspark.ml.feature import CountVectorizer,Tokenizer,StopWordsRemover\n",
    "from pyspark.ml.classification import MultilayerPerceptronClassifier\n",
    "from pyspark.ml.evaluation import MulticlassClassificationEvaluator\n",
    "from pyspark.sql.functions import UserDefinedFunction\n",
    "from pyspark.sql.types import StringType\n",
    "\n",
    "spark = SparkSession.builder.appName(\"SparkML Depression Analysis\").getOrCreate()\n",
    "dataDF= spark.read.option(\"inferSchema\",\"True\")\\\n",
    "                        .option(\"delimiter\",\"\\t\")\\\n",
    "                        .csv(\"datasets/movie_turkish_train.txt\")\n",
    "\n",
    "dataDF = dataDF.withColumnRenamed(\"_c0\",\"tweet\")\n",
    "dataDF = dataDF.withColumnRenamed(\"_c1\",\"label\")\n",
    "\n",
    "\n",
    "def removeCharacters(text):\n",
    "    text = text.replace(\",\",\" \")\n",
    "    text = text.replace(\".\",\" \")\n",
    "    text = text.replace(\"!\",\" \")\n",
    "    text = text.replace(\"?\",\" \")\n",
    "    text = text.replace(\"cok\",\"çok\")\n",
    "    return text\n",
    "    \n",
    "removeUDF = UserDefinedFunction(removeCharacters,StringType())\n",
    "dataDF = dataDF.withColumn(\"text\",removeUDF('tweet'))\n",
    "\n",
    "tokenizer = Tokenizer(inputCol='text',outputCol='tokens')\n",
    "dataDF = tokenizer.transform(dataDF)"
   ]
  },
  {
   "cell_type": "code",
   "execution_count": 3,
   "metadata": {},
   "outputs": [
    {
     "name": "stdout",
     "output_type": "stream",
     "text": [
      "+--------------------+-----+--------------------+--------------------+--------------------+\n",
      "|               tweet|label|                text|              tokens|       no-stop-words|\n",
      "+--------------------+-----+--------------------+--------------------+--------------------+\n",
      "|bunu da gördük uz...|    0|bunu da gördük uz...|[bunu, da, gördük...|[bunu, gördük, uz...|\n",
      "|filmi begenmeyenl...|    0|filmi begenmeyenl...|[filmi, begenmeye...|[filmi, begenmeye...|\n",
      "|günde 1 film izle...|    0|günde 1 film izle...|[günde, 1, film, ...|[günde, 1, film, ...|\n",
      "|afisine bakip ald...|    0|afisine bakip ald...|[afisine, bakip, ...|[afisine, bakip, ...|\n",
      "|sadece insanlarin...|    0|sadece insanlarin...|[sadece, insanlar...|[sadece, insanlar...|\n",
      "|ucuz bir aksiyon ...|    0|ucuz bir aksiyon ...|[ucuz, bir, aksiy...|[ucuz, bir, aksiy...|\n",
      "|olmamis diyor pua...|    0|olmamis diyor pua...|[olmamis, diyor, ...|[olmamis, diyor, ...|\n",
      "|kesinlikle çok kö...|    0|kesinlikle çok kö...|[kesinlikle, çok,...|[kesinlikle, kötü...|\n",
      "|ben nasil bir fil...|    0|ben nasil bir fil...|[ben, nasil, bir,...|[ben, nasil, bir,...|\n",
      "|bu yüzler fazla t...|    0|bu yüzler fazla t...|[bu, yüzler, fazl...|[yüzler, fazla, t...|\n",
      "|. çok ilginç yaa ...|    0|  çok ilginç yaa ...|[, , çok, ilginç,...|[, , ilginç, yaa,...|\n",
      "|bence bu film hiç...|    0|bence bu film hiç...|[bence, bu, film,...|[bence, film, güz...|\n",
      "|valla ben begenme...|    0|valla ben begenme...|[valla, ben, bege...|[valla, ben, bege...|\n",
      "|gönül ister milyo...|    0|gönül ister milyo...|[gönül, ister, mi...|[gönül, ister, mi...|\n",
      "|dün aksam bu film...|    0|dün aksam bu film...|[dün, aksam, bu, ...|[dün, aksam, film...|\n",
      "|cok kötü olmus......|    0|çok kötü olmus   ...|[çok, kötü, olmus...|[kötü, olmus, , ,...|\n",
      "|igrenç yaaa.acaba...|    0|igrenç yaaa acaba...|[igrenç, yaaa, ac...|[igrenç, yaaa, fi...|\n",
      "|saçma sapan bir f...|    0|saçma sapan bir f...|[saçma, sapan, bi...|[saçma, sapan, bi...|\n",
      "|çok güzel komedi ...|    0|çok güzel komedi ...|[çok, güzel, kome...|[güzel, komedi, f...|\n",
      "|beklentimi yüksek...|    0|beklentimi yüksek...|[beklentimi, yüks...|[beklentimi, yüks...|\n",
      "+--------------------+-----+--------------------+--------------------+--------------------+\n",
      "only showing top 20 rows\n",
      "\n",
      "+--------------------+-----+--------------------+--------------------+--------------------+--------------------+\n",
      "|               tweet|label|                text|              tokens|       no-stop-words|            features|\n",
      "+--------------------+-----+--------------------+--------------------+--------------------+--------------------+\n",
      "|bunu da gördük uz...|    0|bunu da gördük uz...|[bunu, da, gördük...|[bunu, gördük, uz...|(1800,[15,95,158,...|\n",
      "|filmi begenmeyenl...|    0|filmi begenmeyenl...|[filmi, begenmeye...|[filmi, begenmeye...|(1800,[1,2,3,20,4...|\n",
      "|günde 1 film izle...|    0|günde 1 film izle...|[günde, 1, film, ...|[günde, 1, film, ...|(1800,[0,1,2,7,12...|\n",
      "|afisine bakip ald...|    0|afisine bakip ald...|[afisine, bakip, ...|[afisine, bakip, ...|(1800,[0,7,17,84,...|\n",
      "|sadece insanlarin...|    0|sadece insanlarin...|[sadece, insanlar...|[sadece, insanlar...|(1800,[1,2,29,64,...|\n",
      "|ucuz bir aksiyon ...|    0|ucuz bir aksiyon ...|[ucuz, bir, aksiy...|[ucuz, bir, aksiy...|(1800,[1,3,11,29,...|\n",
      "|olmamis diyor pua...|    0|olmamis diyor pua...|[olmamis, diyor, ...|[olmamis, diyor, ...|(1800,[0,103,108,...|\n",
      "|kesinlikle çok kö...|    0|kesinlikle çok kö...|[kesinlikle, çok,...|[kesinlikle, kötü...|(1800,[0,1,2,4,13...|\n",
      "|ben nasil bir fil...|    0|ben nasil bir fil...|[ben, nasil, bir,...|[ben, nasil, bir,...|(1800,[1,2,12,14,...|\n",
      "|bu yüzler fazla t...|    0|bu yüzler fazla t...|[bu, yüzler, fazl...|[yüzler, fazla, t...|(1800,[0,3,48,61,...|\n",
      "|. çok ilginç yaa ...|    0|  çok ilginç yaa ...|[, , çok, ilginç,...|[, , ilginç, yaa,...|(1800,[0,1,2,6,18...|\n",
      "|bence bu film hiç...|    0|bence bu film hiç...|[bence, bu, film,...|[bence, film, güz...|(1800,[2,5,6,9,10...|\n",
      "|valla ben begenme...|    0|valla ben begenme...|[valla, ben, bege...|[valla, ben, bege...|(1800,[0,1,2,14,2...|\n",
      "|gönül ister milyo...|    0|gönül ister milyo...|[gönül, ister, mi...|[gönül, ister, mi...|(1800,[0,77,87,11...|\n",
      "|dün aksam bu film...|    0|dün aksam bu film...|[dün, aksam, bu, ...|[dün, aksam, film...|(1800,[2,3,11,17,...|\n",
      "|cok kötü olmus......|    0|çok kötü olmus   ...|[çok, kötü, olmus...|[kötü, olmus, , ,...|(1800,[0,4,10,15,...|\n",
      "|igrenç yaaa.acaba...|    0|igrenç yaaa acaba...|[igrenç, yaaa, ac...|[igrenç, yaaa, fi...|(1800,[1,2,3,28,8...|\n",
      "|saçma sapan bir f...|    0|saçma sapan bir f...|[saçma, sapan, bi...|[saçma, sapan, bi...|(1800,[0,1,2,7,17...|\n",
      "|çok güzel komedi ...|    0|çok güzel komedi ...|[çok, güzel, kome...|[güzel, komedi, f...|(1800,[0,3,5,15,1...|\n",
      "|beklentimi yüksek...|    0|beklentimi yüksek...|[beklentimi, yüks...|[beklentimi, yüks...|(1800,[0,1,3,20,2...|\n",
      "+--------------------+-----+--------------------+--------------------+--------------------+--------------------+\n",
      "only showing top 20 rows\n",
      "\n",
      "root\n",
      " |-- features: vector (nullable = true)\n",
      " |-- label: integer (nullable = true)\n",
      "\n"
     ]
    }
   ],
   "source": [
    "remover = StopWordsRemover(inputCol='tokens',outputCol='no-stop-words',stopWords=StopWordsRemover.loadDefaultStopWords('turkish'))\n",
    "dataDF = remover.transform(dataDF)\n",
    "dataDF.show()\n",
    "\n",
    "vSize = 1800\n",
    "vectorizer = CountVectorizer(inputCol='no-stop-words',outputCol='features',vocabSize=vSize)\n",
    "dataDF = vectorizer.fit(dataDF).transform(dataDF)\n",
    "dataDF.show()\n",
    "\n",
    "\n",
    "dataDF = dataDF.select('features','label')\n",
    "#dataDF.show()\n",
    "\n",
    "dataDF.printSchema()\n",
    "\n",
    "trainDF,testDF = dataDF.randomSplit([0.75,0.25],seed=123)"
   ]
  },
  {
   "cell_type": "code",
   "execution_count": 4,
   "metadata": {},
   "outputs": [
    {
     "name": "stdout",
     "output_type": "stream",
     "text": [
      "Test Accuracy :  0.8227848101265823\n"
     ]
    }
   ],
   "source": [
    "mlpClassifier = MultilayerPerceptronClassifier(layers=[vSize,2,2]) ## MLP classifier\n",
    "model = mlpClassifier.fit(trainDF)\n",
    "\n",
    "\n",
    "resultDF = model.transform(testDF) #Prediction\n",
    "#resultDF.show(100)\n",
    "\n",
    "eva = MulticlassClassificationEvaluator(metricName='accuracy')\n",
    "accuracy = eva.evaluate(resultDF)\n",
    "print(\"Test Accuracy : \",accuracy)"
   ]
  }
 ],
 "metadata": {
  "kernelspec": {
   "display_name": "Python 3",
   "language": "python",
   "name": "python3"
  },
  "language_info": {
   "codemirror_mode": {
    "name": "ipython",
    "version": 3
   },
   "file_extension": ".py",
   "mimetype": "text/x-python",
   "name": "python",
   "nbconvert_exporter": "python",
   "pygments_lexer": "ipython3",
   "version": "3.7.4"
  }
 },
 "nbformat": 4,
 "nbformat_minor": 4
}
