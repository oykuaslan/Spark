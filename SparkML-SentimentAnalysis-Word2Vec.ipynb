{
 "cells": [
  {
   "cell_type": "code",
   "execution_count": 1,
   "metadata": {},
   "outputs": [
    {
     "name": "stdout",
     "output_type": "stream",
     "text": [
      "+--------------------+-----+--------------------+--------------------+--------------------+\n",
      "|               tweet|label|                text|              tokens|       no-stop-words|\n",
      "+--------------------+-----+--------------------+--------------------+--------------------+\n",
      "|bunu da gördük uz...|    0|bunu da gördük uz...|[bunu, da, gördük...|[bunu, gördük, uz...|\n",
      "|filmi begenmeyenl...|    0|filmi begenmeyenl...|[filmi, begenmeye...|[filmi, begenmeye...|\n",
      "|günde 1 film izle...|    0|günde 1 film izle...|[günde, 1, film, ...|[günde, 1, film, ...|\n",
      "|afisine bakip ald...|    0|afisine bakip ald...|[afisine, bakip, ...|[afisine, bakip, ...|\n",
      "|sadece insanlarin...|    0|sadece insanlarin...|[sadece, insanlar...|[sadece, insanlar...|\n",
      "|ucuz bir aksiyon ...|    0|ucuz bir aksiyon ...|[ucuz, bir, aksiy...|[ucuz, bir, aksiy...|\n",
      "|olmamis diyor pua...|    0|olmamis diyor pua...|[olmamis, diyor, ...|[olmamis, diyor, ...|\n",
      "|kesinlikle çok kö...|    0|kesinlikle çok kö...|[kesinlikle, çok,...|[kesinlikle, kötü...|\n",
      "|ben nasil bir fil...|    0|ben nasil bir fil...|[ben, nasil, bir,...|[ben, nasil, bir,...|\n",
      "|bu yüzler fazla t...|    0|bu yüzler fazla t...|[bu, yüzler, fazl...|[yüzler, fazla, t...|\n",
      "|. çok ilginç yaa ...|    0|  çok ilginç yaa ...|[, , çok, ilginç,...|[, , ilginç, yaa,...|\n",
      "|bence bu film hiç...|    0|bence bu film hiç...|[bence, bu, film,...|[bence, film, güz...|\n",
      "|valla ben begenme...|    0|valla ben begenme...|[valla, ben, bege...|[valla, ben, bege...|\n",
      "|gönül ister milyo...|    0|gönül ister milyo...|[gönül, ister, mi...|[gönül, ister, mi...|\n",
      "|dün aksam bu film...|    0|dün aksam bu film...|[dün, aksam, bu, ...|[dün, aksam, film...|\n",
      "|cok kötü olmus......|    0|çok kötü olmus   ...|[çok, kötü, olmus...|[kötü, olmus, , ,...|\n",
      "|igrenç yaaa.acaba...|    0|igrenç yaaa acaba...|[igrenç, yaaa, ac...|[igrenç, yaaa, fi...|\n",
      "|saçma sapan bir f...|    0|saçma sapan bir f...|[saçma, sapan, bi...|[saçma, sapan, bi...|\n",
      "|çok güzel komedi ...|    0|çok güzel komedi ...|[çok, güzel, kome...|[güzel, komedi, f...|\n",
      "|beklentimi yüksek...|    0|beklentimi yüksek...|[beklentimi, yüks...|[beklentimi, yüks...|\n",
      "+--------------------+-----+--------------------+--------------------+--------------------+\n",
      "only showing top 20 rows\n",
      "\n"
     ]
    }
   ],
   "source": [
    "from pyspark.sql import SparkSession \n",
    "from pyspark.ml.feature import Word2Vec,Tokenizer,StopWordsRemover\n",
    "from pyspark.ml.classification import MultilayerPerceptronClassifier\n",
    "from pyspark.ml.evaluation import MulticlassClassificationEvaluator\n",
    "from pyspark.sql.functions import UserDefinedFunction\n",
    "from pyspark.sql.types import StringType\n",
    "\n",
    "spark = SparkSession.builder.appName(\"SparkML Depression Analysis\").getOrCreate()\n",
    "dataDF= spark.read.option(\"inferSchema\",\"True\")\\\n",
    "                        .option(\"delimiter\",\"\\t\")\\\n",
    "                        .csv(\"datasets/movie_turkish_train.txt\")\n",
    "\n",
    "dataDF = dataDF.withColumnRenamed(\"_c0\",\"tweet\")\n",
    "dataDF = dataDF.withColumnRenamed(\"_c1\",\"label\")\n",
    "\n",
    "\n",
    "def removeCharacters(text):\n",
    "    text = text.replace(\",\",\" \")\n",
    "    text = text.replace(\".\",\" \")\n",
    "    text = text.replace(\"!\",\" \")\n",
    "    text = text.replace(\"?\",\" \")\n",
    "    text = text.replace(\"cok\",\"çok\")\n",
    "    return text\n",
    "    \n",
    "removeUDF = UserDefinedFunction(removeCharacters,StringType())\n",
    "dataDF = dataDF.withColumn(\"text\",removeUDF('tweet'))\n",
    "\n",
    "tokenizer = Tokenizer(inputCol='text',outputCol='tokens')\n",
    "dataDF = tokenizer.transform(dataDF)\n",
    "\n",
    "\n",
    "remover = StopWordsRemover(inputCol='tokens',outputCol='no-stop-words',stopWords=StopWordsRemover.loadDefaultStopWords('turkish'))\n",
    "dataDF = remover.transform(dataDF)\n",
    "dataDF.show()"
   ]
  },
  {
   "cell_type": "code",
   "execution_count": 2,
   "metadata": {},
   "outputs": [
    {
     "name": "stdout",
     "output_type": "stream",
     "text": [
      "+--------------------+-----+--------------------+--------------------+--------------------+--------------------+\n",
      "|               tweet|label|                text|              tokens|       no-stop-words|            features|\n",
      "+--------------------+-----+--------------------+--------------------+--------------------+--------------------+\n",
      "|bunu da gördük uz...|    0|bunu da gördük uz...|[bunu, da, gördük...|[bunu, gördük, uz...|[-0.0027702659876...|\n",
      "|filmi begenmeyenl...|    0|filmi begenmeyenl...|[filmi, begenmeye...|[filmi, begenmeye...|[-0.0236163755568...|\n",
      "|günde 1 film izle...|    0|günde 1 film izle...|[günde, 1, film, ...|[günde, 1, film, ...|[-0.0028977304258...|\n",
      "|afisine bakip ald...|    0|afisine bakip ald...|[afisine, bakip, ...|[afisine, bakip, ...|[-0.0079274096215...|\n",
      "|sadece insanlarin...|    0|sadece insanlarin...|[sadece, insanlar...|[sadece, insanlar...|[-0.0123675407376...|\n",
      "|ucuz bir aksiyon ...|    0|ucuz bir aksiyon ...|[ucuz, bir, aksiy...|[ucuz, bir, aksiy...|[-0.0192329027248...|\n",
      "|olmamis diyor pua...|    0|olmamis diyor pua...|[olmamis, diyor, ...|[olmamis, diyor, ...|[0.00254678563214...|\n",
      "|kesinlikle çok kö...|    0|kesinlikle çok kö...|[kesinlikle, çok,...|[kesinlikle, kötü...|[-0.0048972725053...|\n",
      "|ben nasil bir fil...|    0|ben nasil bir fil...|[ben, nasil, bir,...|[ben, nasil, bir,...|[-0.0147837240150...|\n",
      "|bu yüzler fazla t...|    0|bu yüzler fazla t...|[bu, yüzler, fazl...|[yüzler, fazla, t...|[0.01257395344786...|\n",
      "|. çok ilginç yaa ...|    0|  çok ilginç yaa ...|[, , çok, ilginç,...|[, , ilginç, yaa,...|[-0.0155358560982...|\n",
      "|bence bu film hiç...|    0|bence bu film hiç...|[bence, bu, film,...|[bence, film, güz...|[-0.0187785237850...|\n",
      "|valla ben begenme...|    0|valla ben begenme...|[valla, ben, bege...|[valla, ben, bege...|[0.00577076869861...|\n",
      "|gönül ister milyo...|    0|gönül ister milyo...|[gönül, ister, mi...|[gönül, ister, mi...|[0.00260986051494...|\n",
      "|dün aksam bu film...|    0|dün aksam bu film...|[dün, aksam, bu, ...|[dün, aksam, film...|[-0.0028190138749...|\n",
      "|cok kötü olmus......|    0|çok kötü olmus   ...|[çok, kötü, olmus...|[kötü, olmus, , ,...|[-0.0033339028023...|\n",
      "|igrenç yaaa.acaba...|    0|igrenç yaaa acaba...|[igrenç, yaaa, ac...|[igrenç, yaaa, fi...|[-0.0052875672242...|\n",
      "|saçma sapan bir f...|    0|saçma sapan bir f...|[saçma, sapan, bi...|[saçma, sapan, bi...|[0.00139592077937...|\n",
      "|çok güzel komedi ...|    0|çok güzel komedi ...|[çok, güzel, kome...|[güzel, komedi, f...|[-0.0220979806035...|\n",
      "|beklentimi yüksek...|    0|beklentimi yüksek...|[beklentimi, yüks...|[beklentimi, yüks...|[8.14606820273658...|\n",
      "+--------------------+-----+--------------------+--------------------+--------------------+--------------------+\n",
      "only showing top 20 rows\n",
      "\n"
     ]
    }
   ],
   "source": [
    "vSize = 400\n",
    "\n",
    "w2v = Word2Vec(inputCol='no-stop-words',outputCol='features',vectorSize=vSize,windowSize=23,minCount=5)\n",
    "dataDF = w2v.fit(dataDF).transform(dataDF)\n",
    "\n",
    "dataDF.show()"
   ]
  },
  {
   "cell_type": "code",
   "execution_count": 3,
   "metadata": {},
   "outputs": [
    {
     "name": "stdout",
     "output_type": "stream",
     "text": [
      "root\n",
      " |-- features: vector (nullable = true)\n",
      " |-- label: integer (nullable = true)\n",
      "\n",
      "Test Accuracy :  0.7763713080168776\n"
     ]
    }
   ],
   "source": [
    "dataDF = dataDF.select('features','label')\n",
    "dataDF.printSchema()\n",
    "\n",
    "trainDF,testDF = dataDF.randomSplit([0.75,0.25],seed=123)\n",
    "\n",
    "\n",
    "mlpClassifier = MultilayerPerceptronClassifier(layers=[vSize,2,2])\n",
    "model = mlpClassifier.fit(trainDF)\n",
    "\n",
    "\n",
    "resultDF = model.transform(testDF) #Prediction\n",
    "#resultDF.show(100)\n",
    "\n",
    "eva = MulticlassClassificationEvaluator(metricName='accuracy')\n",
    "accuracy = eva.evaluate(resultDF)\n",
    "print(\"Test Accuracy : \",accuracy)"
   ]
  },
  {
   "cell_type": "code",
   "execution_count": null,
   "metadata": {},
   "outputs": [],
   "source": []
  },
  {
   "cell_type": "code",
   "execution_count": null,
   "metadata": {},
   "outputs": [],
   "source": []
  }
 ],
 "metadata": {
  "kernelspec": {
   "display_name": "Python 3",
   "language": "python",
   "name": "python3"
  },
  "language_info": {
   "codemirror_mode": {
    "name": "ipython",
    "version": 3
   },
   "file_extension": ".py",
   "mimetype": "text/x-python",
   "name": "python",
   "nbconvert_exporter": "python",
   "pygments_lexer": "ipython3",
   "version": "3.7.4"
  }
 },
 "nbformat": 4,
 "nbformat_minor": 4
}
